{
 "cells": [
  {
   "cell_type": "code",
   "execution_count": 167,
   "metadata": {},
   "outputs": [],
   "source": [
    "import numpy as np\n",
    "import matplotlib.pyplot as plt\n",
    "import scipy.constants as co\n",
    "%matplotlib inline"
   ]
  },
  {
   "cell_type": "code",
   "execution_count": 197,
   "metadata": {},
   "outputs": [
    {
     "name": "stdout",
     "output_type": "stream",
     "text": [
      "[ 2.27  2.72  3.18  3.63  4.08  4.54  4.99  5.45  5.9   6.35  6.81  7.26\n",
      "  7.71  8.17  8.62  9.08  9.53  9.98 10.44 10.89 11.34 11.8  12.25 12.71\n",
      " 13.16 13.61 14.07 14.52 14.97 15.43 15.88 16.34 16.79 17.24 17.7  18.15\n",
      " 18.61 19.06 19.51 19.97 20.42 20.87 21.33]\n"
     ]
    }
   ],
   "source": [
    "datos = np.loadtxt(\"IRCF.txt\").T\n",
    "print(datos[0])"
   ]
  },
  {
   "cell_type": "code",
   "execution_count": 198,
   "metadata": {},
   "outputs": [
    {
     "data": {
      "image/png": "[encoded data removed]",
      "text/plain": [
       "<Figure size 432x288 with 1 Axes>"
      ]
     },
     "metadata": {},
     "output_type": "display_data"
    }
   ],
   "source": [
    "plt.scatter(datos[0],datos[1])\n",
    "plt.grid()"
   ]
  },
  {
   "cell_type": "code",
   "execution_count": 199,
   "metadata": {},
   "outputs": [
    {
     "name": "stdout",
     "output_type": "stream",
     "text": [
      "[6.810e+10 8.160e+10 9.540e+10 1.089e+11 1.224e+11 1.362e+11 1.497e+11\n",
      " 1.635e+11 1.770e+11 1.905e+11 2.043e+11 2.178e+11 2.313e+11 2.451e+11\n",
      " 2.586e+11 2.724e+11 2.859e+11 2.994e+11 3.132e+11 3.267e+11 3.402e+11\n",
      " 3.540e+11 3.675e+11 3.813e+11 3.948e+11 4.083e+11 4.221e+11 4.356e+11\n",
      " 4.491e+11 4.629e+11 4.764e+11 4.902e+11 5.037e+11 5.172e+11 5.310e+11\n",
      " 5.445e+11 5.583e+11 5.718e+11 5.853e+11 5.991e+11 6.126e+11 6.261e+11\n",
      " 6.399e+11]\n"
     ]
    }
   ],
   "source": [
    "h = co.h\n",
    "k = co.k\n",
    "c = co.c\n",
    "e = 2.7182\n",
    "datos[0]=datos[0]*3e10\n"
   ]
  },
  {
   "cell_type": "code",
   "execution_count": 200,
   "metadata": {},
   "outputs": [],
   "source": [
    "def I(v,T):\n",
    "    I=((h*v**3)/c**2)*(1/(e**(h*v/k*T)-1))\n",
    "    I=I/10e-26\n",
    "    return I"
   ]
  },
  {
   "cell_type": "code",
   "execution_count": null,
   "metadata": {},
   "outputs": [],
   "source": []
  },
  {
   "cell_type": "code",
   "execution_count": null,
   "metadata": {},
   "outputs": [],
   "source": []
  },
  {
   "cell_type": "code",
   "execution_count": null,
   "metadata": {},
   "outputs": [],
   "source": []
  }
 ],
 "metadata": {
  "kernelspec": {
   "display_name": "Python 2",
   "language": "python",
   "name": "python2"
  },
  "language_info": {
   "codemirror_mode": {
    "name": "ipython",
    "version": 3
   },
   "file_extension": ".py",
   "mimetype": "text/x-python",
   "name": "python",
   "nbconvert_exporter": "python",
   "pygments_lexer": "ipython3",
   "version": "3.6.6"
  }
 },
 "nbformat": 4,
 "nbformat_minor": 2
}
